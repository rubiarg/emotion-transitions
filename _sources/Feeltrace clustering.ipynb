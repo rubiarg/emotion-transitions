{
 "cells": [
  {
   "cell_type": "markdown",
   "id": "dd2565b7-cd2e-4099-85c9-4bd0aa7c297f",
   "metadata": {},
   "source": [
    "# Emotion transitions study: Emotion responses cluster analysis\n",
    "Rubia Guerra, Mar 24th 2022"
   ]
  },
  {
   "cell_type": "markdown",
   "id": "e83f7b99-cdb2-420d-ba72-e552881f53d0",
   "metadata": {},
   "source": [
    "### Imports and data split"
   ]
  },
  {
   "cell_type": "code",
   "execution_count": 1,
   "id": "2714c55f-4188-4add-ae55-2387230f6976",
   "metadata": {},
   "outputs": [],
   "source": [
    "import matplotlib.pyplot as plt\n",
    "import numpy as np\n",
    "import os\n",
    "import glob\n",
    "import re\n",
    "import pandas as pd\n",
    "import scipy.io as sio\n",
    "import seaborn as sns\n",
    "from scipy import signal\n",
    "from statsmodels.tsa import stattools\n",
    "\n",
    "from sklearn.metrics import confusion_matrix, ConfusionMatrixDisplay\n",
    "from sklearn.metrics import precision_recall_fscore_support\n",
    "\n",
    "from tqdm import tqdm\n",
    "\n",
    "plt.style.use(\"seaborn\")\n",
    "\n",
    "%matplotlib inline"
   ]
  },
  {
   "cell_type": "code",
   "execution_count": 83,
   "id": "f2785cb4-e1f6-43fd-a104-38a5079c66f1",
   "metadata": {},
   "outputs": [],
   "source": [
    "def load_and_split_dataset(data_dir = 'data/p*', split_size=100, random_seed=128, split_ratio = .7, subject_choice_seed=128):\n",
    "    subject_data_files = glob.glob(os.path.join(data_dir, 'joystick.mat'))\n",
    "    subject_data_files.sort()\n",
    "    num_subjects = int(len(subject_data_files) * split_ratio)\n",
    "    \n",
    "    # group data, pick subjects randomly\n",
    "    np.random.seed(subject_choice_seed)\n",
    "    all_subjects = np.random.choice(subject_data_files, size=num_subjects, replace=False)\n",
    "    subjects = re.findall('p\\d+', ''.join(all_subjects))\n",
    "    print(f\"Training set participants: {subjects}\")\n",
    "    \n",
    "    train = []\n",
    "    test = []\n",
    "    for subject_filename in subject_data_files:\n",
    "        mat_contents = sio.loadmat(subject_filename)\n",
    "        df = pd.DataFrame(mat_contents['var'], columns=['Timestamp', 'Feeltrace'])\n",
    "        \n",
    "        if subject_filename in all_subjects:\n",
    "            train.append(df)\n",
    "        else:\n",
    "            test.append(df)\n",
    "    \n",
    "    return train, test\n"
   ]
  },
  {
   "cell_type": "code",
   "execution_count": 84,
   "id": "55f08963-c355-4b8c-b59f-71aaf42f1cad",
   "metadata": {},
   "outputs": [
    {
     "name": "stdout",
     "output_type": "stream",
     "text": [
      "Training set participants: ['p23', 'p22', 'p2', 'p10', 'p5', 'p8', 'p7', 'p12', 'p17', 'p6', 'p4']\n"
     ]
    }
   ],
   "source": [
    "[train, test] = load_and_split_dataset()"
   ]
  },
  {
   "cell_type": "markdown",
   "id": "7b3b4abf-089a-4fe6-b376-5031163afcff",
   "metadata": {},
   "source": [
    "### Defining emotion dynamics features\n",
    "Refer to _Houben M, Van Den Noortgate W, Kuppens P. The relation between short-term emotion dynamics and psychological well-being: A meta-analysis. Psychological bulletin. 2015 Jul;141(4):901._"
   ]
  },
  {
   "cell_type": "code",
   "execution_count": 85,
   "id": "089ac964-b0c4-484a-a7af-e31961466ade",
   "metadata": {},
   "outputs": [],
   "source": [
    "class EmotionDynamics:\n",
    "    def __init__(self, Fs=30, interval=300, verbose=False):\n",
    "        self.lag = Fs*interval\n",
    "        self.verbose=verbose\n",
    "        \n",
    "    def emotion_variability(self, X: np.array):\n",
    "        return np.std(X)\n",
    "\n",
    "    def emotion_instability(self, X: np.array):\n",
    "        return np.sum((X[1:] - X[:-1])**2)/(len(X)-1) # MSSD\n",
    "\n",
    "    def emotional_inertia(self, X, lag=None):\n",
    "        if lag is None:\n",
    "            lag = self.lag\n",
    "#         if !lag.isinstance(int):\n",
    "#             lag = int(lag)\n",
    "        return stattools.acf(X, nlags=lag)[lag] # Autocorrelation\n",
    "\n",
    "    def emotional_range(self, X: np.array):\n",
    "        return np.abs(min(X)-max(X))\n",
    "    \n",
    "    def get_parameters(self, X: np.array):\n",
    "        parameters = {'Inertia':'', 'Instability':'', 'Range':'', 'Variability':''}\n",
    "        parameters['Inertia'] = self.emotional_inertia(X)\n",
    "        parameters['Instability'] = self.emotion_instability(X)\n",
    "        parameters['Range'] = self.emotional_range(X)\n",
    "        parameters['Variability'] = self.emotion_variability(X)\n",
    "        if self.verbose:\n",
    "            print(parameters)\n",
    "        return parameters"
   ]
  },
  {
   "cell_type": "code",
   "execution_count": 86,
   "id": "184d2323-9150-420d-83db-9fa92cc4e0a5",
   "metadata": {},
   "outputs": [],
   "source": [
    "ED = EmotionDynamics(verbose=False)"
   ]
  },
  {
   "cell_type": "code",
   "execution_count": 87,
   "id": "d2c22118-d318-4e10-80f5-4bae5668201c",
   "metadata": {},
   "outputs": [
    {
     "data": {
      "text/plain": [
       "{'Inertia': -0.03152622069122684,\n",
       " 'Instability': 0.0,\n",
       " 'Range': 209.0,\n",
       " 'Variability': 49.07772720654508}"
      ]
     },
     "execution_count": 87,
     "metadata": {},
     "output_type": "execute_result"
    }
   ],
   "source": [
    "ED.get_parameters(train[1]['Feeltrace'])"
   ]
  },
  {
   "cell_type": "code",
   "execution_count": 88,
   "id": "1dd8c33e-fdc2-4318-bafa-2f410ae54069",
   "metadata": {},
   "outputs": [],
   "source": [
    "training_data = []\n",
    "for subject in train:\n",
    "    feeltrace = np.array(subject['Feeltrace'])\n",
    "    training_data.append(ED.get_parameters(feeltrace))"
   ]
  },
  {
   "cell_type": "code",
   "execution_count": 89,
   "id": "04c535e5-3883-49f0-91b1-4dfc1a8cc0cc",
   "metadata": {},
   "outputs": [],
   "source": [
    "test_data = []\n",
    "for subject in test:\n",
    "    feeltrace = np.array(subject['Feeltrace'])\n",
    "    test_data.append(ED.get_parameters(feeltrace))"
   ]
  },
  {
   "cell_type": "code",
   "execution_count": 90,
   "id": "3033a1fd-d113-4baf-acff-6c7f0f6a0797",
   "metadata": {},
   "outputs": [
    {
     "data": {
      "text/html": [
       "<div>\n",
       "<style scoped>\n",
       "    .dataframe tbody tr th:only-of-type {\n",
       "        vertical-align: middle;\n",
       "    }\n",
       "\n",
       "    .dataframe tbody tr th {\n",
       "        vertical-align: top;\n",
       "    }\n",
       "\n",
       "    .dataframe thead th {\n",
       "        text-align: right;\n",
       "    }\n",
       "</style>\n",
       "<table border=\"1\" class=\"dataframe\">\n",
       "  <thead>\n",
       "    <tr style=\"text-align: right;\">\n",
       "      <th></th>\n",
       "      <th>Inertia</th>\n",
       "      <th>Instability</th>\n",
       "      <th>Range</th>\n",
       "      <th>Variability</th>\n",
       "    </tr>\n",
       "  </thead>\n",
       "  <tbody>\n",
       "    <tr>\n",
       "      <th>0</th>\n",
       "      <td>0.012713</td>\n",
       "      <td>0.593234</td>\n",
       "      <td>185.0</td>\n",
       "      <td>32.349176</td>\n",
       "    </tr>\n",
       "    <tr>\n",
       "      <th>1</th>\n",
       "      <td>-0.031526</td>\n",
       "      <td>1.278632</td>\n",
       "      <td>209.0</td>\n",
       "      <td>49.077727</td>\n",
       "    </tr>\n",
       "    <tr>\n",
       "      <th>2</th>\n",
       "      <td>-0.138167</td>\n",
       "      <td>0.761333</td>\n",
       "      <td>225.5</td>\n",
       "      <td>42.022961</td>\n",
       "    </tr>\n",
       "    <tr>\n",
       "      <th>3</th>\n",
       "      <td>-0.084194</td>\n",
       "      <td>0.714600</td>\n",
       "      <td>213.0</td>\n",
       "      <td>39.557379</td>\n",
       "    </tr>\n",
       "    <tr>\n",
       "      <th>4</th>\n",
       "      <td>-0.026253</td>\n",
       "      <td>1.056519</td>\n",
       "      <td>184.0</td>\n",
       "      <td>38.449633</td>\n",
       "    </tr>\n",
       "    <tr>\n",
       "      <th>5</th>\n",
       "      <td>0.010896</td>\n",
       "      <td>0.808034</td>\n",
       "      <td>153.0</td>\n",
       "      <td>29.005620</td>\n",
       "    </tr>\n",
       "    <tr>\n",
       "      <th>6</th>\n",
       "      <td>-0.035573</td>\n",
       "      <td>0.985158</td>\n",
       "      <td>223.0</td>\n",
       "      <td>48.939746</td>\n",
       "    </tr>\n",
       "    <tr>\n",
       "      <th>7</th>\n",
       "      <td>0.040190</td>\n",
       "      <td>0.952268</td>\n",
       "      <td>194.0</td>\n",
       "      <td>29.056105</td>\n",
       "    </tr>\n",
       "    <tr>\n",
       "      <th>8</th>\n",
       "      <td>0.055261</td>\n",
       "      <td>1.015773</td>\n",
       "      <td>184.0</td>\n",
       "      <td>48.688655</td>\n",
       "    </tr>\n",
       "    <tr>\n",
       "      <th>9</th>\n",
       "      <td>-0.112607</td>\n",
       "      <td>0.796932</td>\n",
       "      <td>222.0</td>\n",
       "      <td>42.722726</td>\n",
       "    </tr>\n",
       "    <tr>\n",
       "      <th>10</th>\n",
       "      <td>-0.015534</td>\n",
       "      <td>0.784511</td>\n",
       "      <td>219.0</td>\n",
       "      <td>43.330018</td>\n",
       "    </tr>\n",
       "  </tbody>\n",
       "</table>\n",
       "</div>"
      ],
      "text/plain": [
       "     Inertia  Instability  Range  Variability\n",
       "0   0.012713     0.593234  185.0    32.349176\n",
       "1  -0.031526     1.278632  209.0    49.077727\n",
       "2  -0.138167     0.761333  225.5    42.022961\n",
       "3  -0.084194     0.714600  213.0    39.557379\n",
       "4  -0.026253     1.056519  184.0    38.449633\n",
       "5   0.010896     0.808034  153.0    29.005620\n",
       "6  -0.035573     0.985158  223.0    48.939746\n",
       "7   0.040190     0.952268  194.0    29.056105\n",
       "8   0.055261     1.015773  184.0    48.688655\n",
       "9  -0.112607     0.796932  222.0    42.722726\n",
       "10 -0.015534     0.784511  219.0    43.330018"
      ]
     },
     "execution_count": 90,
     "metadata": {},
     "output_type": "execute_result"
    }
   ],
   "source": [
    "X_train = pd.DataFrame(training_data)\n",
    "X_test = pd.DataFrame(test_data)\n",
    "X_train"
   ]
  },
  {
   "cell_type": "code",
   "execution_count": 91,
   "id": "8bda7a5f-722a-485b-b847-085d0b4994f1",
   "metadata": {},
   "outputs": [
    {
     "data": {
      "text/html": [
       "<div>\n",
       "<style scoped>\n",
       "    .dataframe tbody tr th:only-of-type {\n",
       "        vertical-align: middle;\n",
       "    }\n",
       "\n",
       "    .dataframe tbody tr th {\n",
       "        vertical-align: top;\n",
       "    }\n",
       "\n",
       "    .dataframe thead th {\n",
       "        text-align: right;\n",
       "    }\n",
       "</style>\n",
       "<table border=\"1\" class=\"dataframe\">\n",
       "  <thead>\n",
       "    <tr style=\"text-align: right;\">\n",
       "      <th></th>\n",
       "      <th>Inertia</th>\n",
       "      <th>Instability</th>\n",
       "      <th>Range</th>\n",
       "      <th>Variability</th>\n",
       "    </tr>\n",
       "  </thead>\n",
       "  <tbody>\n",
       "    <tr>\n",
       "      <th>0</th>\n",
       "      <td>0.012713</td>\n",
       "      <td>0.593234</td>\n",
       "      <td>185.0</td>\n",
       "      <td>32.349176</td>\n",
       "    </tr>\n",
       "    <tr>\n",
       "      <th>1</th>\n",
       "      <td>-0.031526</td>\n",
       "      <td>1.278632</td>\n",
       "      <td>209.0</td>\n",
       "      <td>49.077727</td>\n",
       "    </tr>\n",
       "    <tr>\n",
       "      <th>2</th>\n",
       "      <td>-0.138167</td>\n",
       "      <td>0.761333</td>\n",
       "      <td>225.5</td>\n",
       "      <td>42.022961</td>\n",
       "    </tr>\n",
       "    <tr>\n",
       "      <th>3</th>\n",
       "      <td>-0.084194</td>\n",
       "      <td>0.714600</td>\n",
       "      <td>213.0</td>\n",
       "      <td>39.557379</td>\n",
       "    </tr>\n",
       "    <tr>\n",
       "      <th>4</th>\n",
       "      <td>-0.026253</td>\n",
       "      <td>1.056519</td>\n",
       "      <td>184.0</td>\n",
       "      <td>38.449633</td>\n",
       "    </tr>\n",
       "    <tr>\n",
       "      <th>5</th>\n",
       "      <td>0.010896</td>\n",
       "      <td>0.808034</td>\n",
       "      <td>153.0</td>\n",
       "      <td>29.005620</td>\n",
       "    </tr>\n",
       "    <tr>\n",
       "      <th>6</th>\n",
       "      <td>-0.035573</td>\n",
       "      <td>0.985158</td>\n",
       "      <td>223.0</td>\n",
       "      <td>48.939746</td>\n",
       "    </tr>\n",
       "    <tr>\n",
       "      <th>7</th>\n",
       "      <td>0.040190</td>\n",
       "      <td>0.952268</td>\n",
       "      <td>194.0</td>\n",
       "      <td>29.056105</td>\n",
       "    </tr>\n",
       "    <tr>\n",
       "      <th>8</th>\n",
       "      <td>0.055261</td>\n",
       "      <td>1.015773</td>\n",
       "      <td>184.0</td>\n",
       "      <td>48.688655</td>\n",
       "    </tr>\n",
       "    <tr>\n",
       "      <th>9</th>\n",
       "      <td>-0.112607</td>\n",
       "      <td>0.796932</td>\n",
       "      <td>222.0</td>\n",
       "      <td>42.722726</td>\n",
       "    </tr>\n",
       "    <tr>\n",
       "      <th>10</th>\n",
       "      <td>-0.015534</td>\n",
       "      <td>0.784511</td>\n",
       "      <td>219.0</td>\n",
       "      <td>43.330018</td>\n",
       "    </tr>\n",
       "    <tr>\n",
       "      <th>11</th>\n",
       "      <td>-0.048776</td>\n",
       "      <td>0.951712</td>\n",
       "      <td>215.0</td>\n",
       "      <td>38.263004</td>\n",
       "    </tr>\n",
       "    <tr>\n",
       "      <th>12</th>\n",
       "      <td>0.017515</td>\n",
       "      <td>1.989445</td>\n",
       "      <td>215.0</td>\n",
       "      <td>40.816129</td>\n",
       "    </tr>\n",
       "    <tr>\n",
       "      <th>13</th>\n",
       "      <td>-0.065803</td>\n",
       "      <td>1.315396</td>\n",
       "      <td>220.0</td>\n",
       "      <td>39.632455</td>\n",
       "    </tr>\n",
       "    <tr>\n",
       "      <th>14</th>\n",
       "      <td>0.081192</td>\n",
       "      <td>0.922316</td>\n",
       "      <td>182.0</td>\n",
       "      <td>33.193777</td>\n",
       "    </tr>\n",
       "    <tr>\n",
       "      <th>15</th>\n",
       "      <td>-0.021358</td>\n",
       "      <td>0.501430</td>\n",
       "      <td>163.0</td>\n",
       "      <td>27.154791</td>\n",
       "    </tr>\n",
       "  </tbody>\n",
       "</table>\n",
       "</div>"
      ],
      "text/plain": [
       "     Inertia  Instability  Range  Variability\n",
       "0   0.012713     0.593234  185.0    32.349176\n",
       "1  -0.031526     1.278632  209.0    49.077727\n",
       "2  -0.138167     0.761333  225.5    42.022961\n",
       "3  -0.084194     0.714600  213.0    39.557379\n",
       "4  -0.026253     1.056519  184.0    38.449633\n",
       "5   0.010896     0.808034  153.0    29.005620\n",
       "6  -0.035573     0.985158  223.0    48.939746\n",
       "7   0.040190     0.952268  194.0    29.056105\n",
       "8   0.055261     1.015773  184.0    48.688655\n",
       "9  -0.112607     0.796932  222.0    42.722726\n",
       "10 -0.015534     0.784511  219.0    43.330018\n",
       "11 -0.048776     0.951712  215.0    38.263004\n",
       "12  0.017515     1.989445  215.0    40.816129\n",
       "13 -0.065803     1.315396  220.0    39.632455\n",
       "14  0.081192     0.922316  182.0    33.193777\n",
       "15 -0.021358     0.501430  163.0    27.154791"
      ]
     },
     "execution_count": 91,
     "metadata": {},
     "output_type": "execute_result"
    }
   ],
   "source": [
    "X = X_train.append(X_test).reset_index(drop=True)\n",
    "X"
   ]
  },
  {
   "cell_type": "code",
   "execution_count": 92,
   "id": "d6bd4fd5-5862-43a2-beab-10ef2492c5f3",
   "metadata": {},
   "outputs": [
    {
     "data": {
      "text/plain": [
       "<seaborn.axisgrid.PairGrid at 0x1216b4850>"
      ]
     },
     "execution_count": 92,
     "metadata": {},
     "output_type": "execute_result"
    },
    {
     "data": {
      "image/png": "[encoded data removed]",
      "text/plain": [
       "<Figure size 720x720 with 20 Axes>"
      ]
     },
     "metadata": {},
     "output_type": "display_data"
    }
   ],
   "source": [
    "sns.pairplot(X)"
   ]
  },
  {
   "cell_type": "code",
   "execution_count": 93,
   "id": "f91d4d15-7396-4b5a-916f-6e525de868d6",
   "metadata": {},
   "outputs": [
    {
     "data": {
      "image/png": "[encoded data removed]",
      "text/plain": [
       "<Figure size 288x216 with 1 Axes>"
      ]
     },
     "metadata": {},
     "output_type": "display_data"
    }
   ],
   "source": [
    "import numpy as np\n",
    "import matplotlib.pyplot as plt\n",
    "from mpl_toolkits.mplot3d import Axes3D\n",
    "\n",
    "fig = plt.figure(1, figsize=(4, 3))\n",
    "plt.clf()\n",
    "ax = Axes3D(fig, rect=[0, 0, 0.95, 1], elev=48, azim=134, auto_add_to_figure=False)\n",
    "fig.add_axes(ax)\n",
    "\n",
    "plt.cla()\n",
    "\n",
    "ax.scatter(X_scaled[:, 0], X_scaled[:, 1], X_scaled[:, 2], c=X_scaled[:, 3], cmap=plt.cm.nipy_spectral, edgecolor=\"k\")\n",
    "\n",
    "ax.w_xaxis.set_ticklabels([])\n",
    "ax.w_yaxis.set_ticklabels([])\n",
    "ax.w_zaxis.set_ticklabels([])\n",
    "\n",
    "plt.show()"
   ]
  },
  {
   "cell_type": "markdown",
   "id": "0e810546-0955-44b0-b803-0ad12ce3d0bc",
   "metadata": {},
   "source": [
    "### Principal Component Analysis"
   ]
  },
  {
   "cell_type": "code",
   "execution_count": 94,
   "id": "a62d0dd0-7e35-4b18-ba79-ee2f099b9e8b",
   "metadata": {},
   "outputs": [
    {
     "data": {
      "image/png": "[encoded data removed]",
      "text/plain": [
       "<Figure size 288x216 with 1 Axes>"
      ]
     },
     "metadata": {},
     "output_type": "display_data"
    }
   ],
   "source": [
    "import numpy as np\n",
    "import matplotlib.pyplot as plt\n",
    "from mpl_toolkits.mplot3d import Axes3D\n",
    "\n",
    "from sklearn import decomposition\n",
    "\n",
    "fig = plt.figure(1, figsize=(4, 3))\n",
    "plt.clf()\n",
    "ax = Axes3D(fig, rect=[0, 0, 0.95, 1], elev=48, azim=134, auto_add_to_figure=False)\n",
    "fig.add_axes(ax)\n",
    "\n",
    "plt.cla()\n",
    "pca = decomposition.PCA(n_components=3)\n",
    "pca.fit(X_scaled)\n",
    "X = pca.transform(X_scaled)\n",
    "\n",
    "ax.scatter(X[:, 0], X[:, 1], X[:, 2], cmap=plt.cm.nipy_spectral, edgecolor=\"k\")\n",
    "\n",
    "ax.w_xaxis.set_ticklabels([])\n",
    "ax.w_yaxis.set_ticklabels([])\n",
    "ax.w_zaxis.set_ticklabels([])\n",
    "\n",
    "plt.show()"
   ]
  },
  {
   "cell_type": "markdown",
   "id": "468ebaa9-8b55-4c3e-b9d6-9a2ecc8a3275",
   "metadata": {},
   "source": [
    "### Gaussian Mixture Model"
   ]
  },
  {
   "cell_type": "code",
   "execution_count": 95,
   "id": "0a2feeee-8952-4953-b13b-151f5037327c",
   "metadata": {},
   "outputs": [],
   "source": [
    "from sklearn.preprocessing import StandardScaler\n",
    "scaler = StandardScaler()\n",
    "X_scaled = scaler.fit_transform(X)"
   ]
  },
  {
   "cell_type": "code",
   "execution_count": 96,
   "id": "a06c1ef0-23d3-4a92-8a73-01a08913661a",
   "metadata": {},
   "outputs": [],
   "source": [
    "from yellowbrick.cluster import SilhouetteVisualizer\n",
    "from sklearn.cluster import KMeans\n",
    "from sklearn import metrics"
   ]
  },
  {
   "cell_type": "code",
   "execution_count": 99,
   "id": "7cdd241f-3d78-4ced-a83c-d4bfaf06b5e0",
   "metadata": {},
   "outputs": [
    {
     "data": {
      "image/png": "[encoded data removed]",
      "text/plain": [
       "<Figure size 1080x1080 with 2 Axes>"
      ]
     },
     "metadata": {},
     "output_type": "display_data"
    }
   ],
   "source": [
    "\"\"\"\n",
    "================================\n",
    "Gaussian Mixture Model Selection\n",
    "================================\n",
    "\n",
    "This example shows that model selection can be performed with\n",
    "Gaussian Mixture Models using information-theoretic criteria (BIC).\n",
    "Model selection concerns both the covariance type\n",
    "and the number of components in the model.\n",
    "In that case, AIC also provides the right result (not shown to save time),\n",
    "but BIC is better suited if the problem is to identify the right model.\n",
    "Unlike Bayesian procedures, such inferences are prior-free.\n",
    "\n",
    "In that case, the model with 2 components and full covariance\n",
    "(which corresponds to the true generative model) is selected.\n",
    "\n",
    "\"\"\"\n",
    "\n",
    "import itertools\n",
    "\n",
    "from scipy import linalg\n",
    "import matplotlib.pyplot as plt\n",
    "import matplotlib as mpl\n",
    "\n",
    "from sklearn import mixture\n",
    "\n",
    "lowest_bic = np.infty\n",
    "bic = []\n",
    "n_components_range = range(1, 7)\n",
    "cv_types = [\"spherical\", \"tied\", \"diag\", \"full\"]\n",
    "for cv_type in cv_types:\n",
    "    for n_components in n_components_range:\n",
    "        # Fit a Gaussian mixture with EM\n",
    "        gmm = mixture.GaussianMixture(\n",
    "            n_components=n_components, covariance_type=cv_type\n",
    "        )\n",
    "        gmm.fit(X_scaled)\n",
    "        bic.append(gmm.bic(X_scaled))\n",
    "        if bic[-1] < lowest_bic:\n",
    "            lowest_bic = bic[-1]\n",
    "            best_gmm = gmm\n",
    "\n",
    "bic = np.array(bic)\n",
    "color_iter = itertools.cycle([\"navy\", \"turquoise\", \"cornflowerblue\", \"darkorange\"])\n",
    "clf = best_gmm\n",
    "bars = []\n",
    "\n",
    "# Plot the BIC scores\n",
    "plt.figure(figsize=(15, 15))\n",
    "spl = plt.subplot(2, 1, 1)\n",
    "for i, (cv_type, color) in enumerate(zip(cv_types, color_iter)):\n",
    "    xpos = np.array(n_components_range) + 0.2 * (i - 2)\n",
    "    bars.append(\n",
    "        plt.bar(\n",
    "            xpos,\n",
    "            bic[i * len(n_components_range) : (i + 1) * len(n_components_range)],\n",
    "            width=0.2,\n",
    "            color=color,\n",
    "        )\n",
    "    )\n",
    "plt.xticks(n_components_range)\n",
    "plt.ylim([bic.min() * 1.01 - 0.01 * bic.max(), bic.max()])\n",
    "plt.title(\"BIC score per model\")\n",
    "xpos = (\n",
    "    np.mod(bic.argmin(), len(n_components_range))\n",
    "    + 0.65\n",
    "    + 0.2 * np.floor(bic.argmin() / len(n_components_range))\n",
    ")\n",
    "plt.text(xpos, bic.min() * 0.97 + 0.03 * bic.max(), \"*\", fontsize=14)\n",
    "spl.set_xlabel(\"Number of components\")\n",
    "spl.legend([b[0] for b in bars], cv_types)\n",
    "\n",
    "# Plot the winner\n",
    "splot = plt.subplot(2, 1, 2)\n",
    "Y_ = clf.predict(X_scaled)\n",
    "for i, (mean, cov, color) in enumerate(zip(clf.means_, clf.covariances_, color_iter)):\n",
    "    v, w = linalg.eigh(cov)\n",
    "    if not np.any(Y_ == i):\n",
    "        continue\n",
    "    plt.scatter(X_scaled[Y_ == i, 0], X_scaled[Y_ == i, 1], 20, color=color)\n",
    "\n",
    "#     # Plot an ellipse to show the Gaussian component\n",
    "#     angle = np.arctan2(w[0][1], w[0][0])\n",
    "#     angle = 180.0 * angle / np.pi  # convert to degrees\n",
    "#     v = 2.0 * np.sqrt(2.0) * np.sqrt(v)\n",
    "#     ell = mpl.patches.Ellipse(mean, v[0], v[1], 180.0 + angle, color=color)\n",
    "#     ell.set_clip_box(splot.bbox)\n",
    "#     ell.set_alpha(0.5)\n",
    "#     splot.add_artist(ell)\n",
    "\n",
    "plt.legend(range(len(clf.means_)))\n",
    "plt.xticks(())\n",
    "plt.yticks(())\n",
    "plt.title(\n",
    "    f\"Selected GMM: {best_gmm.covariance_type} model, \"\n",
    "    f\"{best_gmm.n_components} components\"\n",
    ")\n",
    "# plt.subplots_adjust(hspace=0.55, bottom=0.02)\n",
    "plt.show()\n"
   ]
  },
  {
   "cell_type": "code",
   "execution_count": null,
   "id": "eca6e45a-46a8-4490-bf2c-3222181ff8a9",
   "metadata": {},
   "outputs": [],
   "source": []
  }
 ],
 "metadata": {
  "kernelspec": {
   "display_name": "Python 3 (ipykernel)",
   "language": "python",
   "name": "python3"
  },
  "language_info": {
   "codemirror_mode": {
    "name": "ipython",
    "version": 3
   },
   "file_extension": ".py",
   "mimetype": "text/x-python",
   "name": "python",
   "nbconvert_exporter": "python",
   "pygments_lexer": "ipython3",
   "version": "3.9.5"
  }
 },
 "nbformat": 4,
 "nbformat_minor": 5
}
