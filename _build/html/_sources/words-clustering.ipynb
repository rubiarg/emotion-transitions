{
 "cells": [
  {
   "cell_type": "markdown",
   "id": "dd2565b7-cd2e-4099-85c9-4bd0aa7c297f",
   "metadata": {},
   "source": [
    "# Feeltrace and calibrated words analysis\n",
    "Rubia Guerra\n",
    "\n",
    "Last updated: Apr 13th 2022"
   ]
  },
  {
   "cell_type": "markdown",
   "id": "e83f7b99-cdb2-420d-ba72-e552881f53d0",
   "metadata": {},
   "source": [
    "### Module definitions"
   ]
  },
  {
   "cell_type": "code",
   "execution_count": 26,
   "id": "2714c55f-4188-4add-ae55-2387230f6976",
   "metadata": {},
   "outputs": [],
   "source": [
    "import matplotlib.pyplot as plt\n",
    "import numpy as np\n",
    "import os\n",
    "import glob\n",
    "import re\n",
    "import pandas as pd\n",
    "import scipy.io as sio\n",
    "import seaborn as sns\n",
    "from scipy import signal\n",
    "from statsmodels.tsa import stattools\n",
    "\n",
    "from sklearn.metrics import confusion_matrix, ConfusionMatrixDisplay\n",
    "from sklearn.metrics import precision_recall_fscore_support\n",
    "\n",
    "from tqdm import tqdm\n",
    "\n",
    "plt.style.use(\"seaborn\")\n",
    "\n",
    "%matplotlib inline"
   ]
  },
  {
   "cell_type": "markdown",
   "id": "a671e5ee-5463-4a23-9aba-6230b5205514",
   "metadata": {},
   "source": [
    "### Import data"
   ]
  },
  {
   "cell_type": "code",
   "execution_count": 25,
   "id": "f2785cb4-e1f6-43fd-a104-38a5079c66f1",
   "metadata": {},
   "outputs": [],
   "source": [
    "def load_and_split_dataset(data_dir = '../EEG/data/p*', split_size=100, random_seed=128, split_ratio = .7, subject_choice_seed=128):\n",
    "    subject_data_files = glob.glob(os.path.join(data_dir, 'calibrated_words_calibrated_values.mat'))\n",
    "    subject_data_files.sort()\n",
    "    num_subjects = int(len(subject_data_files) * split_ratio)\n",
    "    \n",
    "    # group data, pick subjects randomly\n",
    "    np.random.seed(subject_choice_seed)\n",
    "    all_subjects = np.random.choice(subject_data_files, size=num_subjects, replace=False)\n",
    "    subjects = re.findall('p\\d+', ''.join(all_subjects))\n",
    "    print(f\"Training set participants: {subjects}\")\n",
    "    \n",
    "    train = []\n",
    "    test = []\n",
    "    for subject_filename in subject_data_files:\n",
    "        mat_contents = sio.loadmat(subject_filename)\n",
    "        mat_contents = np.hstack(mat_contents['var'])\n",
    "        df = pd.DataFrame(mat_contents, columns=['Calibrated values'])\n",
    "        \n",
    "        if subject_filename in all_subjects:\n",
    "            train.append(df)\n",
    "        else:\n",
    "            test.append(df)\n",
    "    \n",
    "    return train, test\n"
   ]
  },
  {
   "cell_type": "code",
   "execution_count": 26,
   "id": "55f08963-c355-4b8c-b59f-71aaf42f1cad",
   "metadata": {},
   "outputs": [
    {
     "name": "stdout",
     "output_type": "stream",
     "text": [
      "Training set participants: ['p23', 'p22', 'p2', 'p10', 'p5', 'p8', 'p7', 'p12', 'p17', 'p6', 'p4']\n"
     ]
    }
   ],
   "source": [
    "[train, test] = load_and_split_dataset()"
   ]
  },
  {
   "cell_type": "markdown",
   "id": "7b3b4abf-089a-4fe6-b376-5031163afcff",
   "metadata": {},
   "source": [
    "### Defining emotion dynamics features\n",
    "Refer to _Houben M, Van Den Noortgate W, Kuppens P. The relation between short-term emotion dynamics and psychological well-being: A meta-analysis. Psychological bulletin. 2015 Jul;141(4):901._\n",
    "\n",
    "- **Emotional inertia:** refers to how well the intensity of an emotional state can be predicted from the emotional state at a previous moment.\n",
    "- **Emotional instability:** refers to the magnitude of emotional changes from one moment to the next. An individual characterized by high levels of instability experiences larger emotional shifts from one moment to the next, resulting in a more unstable emotional life.\n",
    "- **Emotional variability:** refers to the range or amplitude of someone’s emotional states across time. An individual characterized by higher levels of emotional variability experiences emotions that reach more extreme levels and shows larger emotional deviations from his or her average emotional level"
   ]
  },
  {
   "cell_type": "code",
   "execution_count": 30,
   "id": "089ac964-b0c4-484a-a7af-e31961466ade",
   "metadata": {},
   "outputs": [],
   "source": [
    "class EmotionDynamics:\n",
    "    def __init__(self, Fs=0.05, interval=300):\n",
    "        self.lag = int(Fs*interval*1e-1) # feeltrace sampling rate x 300 ms\n",
    "\n",
    "    def emotional_variability(self, X):\n",
    "        return np.std(X)\n",
    "\n",
    "    def emotional_instability(self, X):\n",
    "        return np.sum((X[1:] - X[:-1])**2)/(len(X)-1) # MSSD\n",
    "\n",
    "    def emotional_inertia(self, X, lag=None):\n",
    "        if lag is None:\n",
    "            lag = self.lag\n",
    "        return stattools.acf(X, nlags=lag)[lag] # Autocorrelation\n",
    "    \n",
    "    def get_parameters(self, X):\n",
    "        X = np.array(X)\n",
    "        parameters = {'Inertia':'', 'Instability':'', 'Variability':''}\n",
    "        parameters['Inertia'] = self.emotional_inertia(X)\n",
    "        parameters['Instability'] = self.emotional_instability(X)\n",
    "        parameters['Variability'] = self.emotional_variability(X)\n",
    "        return parameters"
   ]
  },
  {
   "cell_type": "code",
   "execution_count": 31,
   "id": "184d2323-9150-420d-83db-9fa92cc4e0a5",
   "metadata": {},
   "outputs": [],
   "source": [
    "ED = EmotionDynamics()"
   ]
  },
  {
   "cell_type": "code",
   "execution_count": 32,
   "id": "d2c22118-d318-4e10-80f5-4bae5668201c",
   "metadata": {},
   "outputs": [
    {
     "data": {
      "text/plain": [
       "{'Inertia': -0.03766741071428572,\n",
       " 'Instability': 43.098837209302324,\n",
       " 'Variability': 4.51260859854213}"
      ]
     },
     "execution_count": 32,
     "metadata": {},
     "output_type": "execute_result"
    }
   ],
   "source": [
    "ED.get_parameters(train[1]['Calibrated values'])"
   ]
  },
  {
   "cell_type": "code",
   "execution_count": 34,
   "id": "1dd8c33e-fdc2-4318-bafa-2f410ae54069",
   "metadata": {},
   "outputs": [],
   "source": [
    "training_data = []\n",
    "for subject in train:\n",
    "    calibrated_values = np.array(subject['Calibrated values'])\n",
    "    training_data.append(ED.get_parameters(calibrated_values))"
   ]
  },
  {
   "cell_type": "code",
   "execution_count": 35,
   "id": "04c535e5-3883-49f0-91b1-4dfc1a8cc0cc",
   "metadata": {},
   "outputs": [],
   "source": [
    "test_data = []\n",
    "for subject in test:\n",
    "    feeltrace = np.array(subject['Calibrated values'])\n",
    "    test_data.append(ED.get_parameters(calibrated_values))"
   ]
  },
  {
   "cell_type": "code",
   "execution_count": 36,
   "id": "3033a1fd-d113-4baf-acff-6c7f0f6a0797",
   "metadata": {},
   "outputs": [
    {
     "data": {
      "text/html": [
       "<div>\n",
       "<style scoped>\n",
       "    .dataframe tbody tr th:only-of-type {\n",
       "        vertical-align: middle;\n",
       "    }\n",
       "\n",
       "    .dataframe tbody tr th {\n",
       "        vertical-align: top;\n",
       "    }\n",
       "\n",
       "    .dataframe thead th {\n",
       "        text-align: right;\n",
       "    }\n",
       "</style>\n",
       "<table border=\"1\" class=\"dataframe\">\n",
       "  <thead>\n",
       "    <tr style=\"text-align: right;\">\n",
       "      <th></th>\n",
       "      <th>Inertia</th>\n",
       "      <th>Instability</th>\n",
       "      <th>Variability</th>\n",
       "    </tr>\n",
       "  </thead>\n",
       "  <tbody>\n",
       "    <tr>\n",
       "      <th>0</th>\n",
       "      <td>-0.058245</td>\n",
       "      <td>47.391667</td>\n",
       "      <td>4.755631</td>\n",
       "    </tr>\n",
       "    <tr>\n",
       "      <th>1</th>\n",
       "      <td>-0.037667</td>\n",
       "      <td>43.098837</td>\n",
       "      <td>4.512609</td>\n",
       "    </tr>\n",
       "    <tr>\n",
       "      <th>2</th>\n",
       "      <td>0.240929</td>\n",
       "      <td>29.709677</td>\n",
       "      <td>4.354612</td>\n",
       "    </tr>\n",
       "    <tr>\n",
       "      <th>3</th>\n",
       "      <td>0.079935</td>\n",
       "      <td>23.877778</td>\n",
       "      <td>3.637669</td>\n",
       "    </tr>\n",
       "    <tr>\n",
       "      <th>4</th>\n",
       "      <td>-0.079603</td>\n",
       "      <td>29.575000</td>\n",
       "      <td>3.760806</td>\n",
       "    </tr>\n",
       "    <tr>\n",
       "      <th>5</th>\n",
       "      <td>0.009257</td>\n",
       "      <td>32.682432</td>\n",
       "      <td>4.020916</td>\n",
       "    </tr>\n",
       "    <tr>\n",
       "      <th>6</th>\n",
       "      <td>-0.032880</td>\n",
       "      <td>31.568750</td>\n",
       "      <td>3.862833</td>\n",
       "    </tr>\n",
       "    <tr>\n",
       "      <th>7</th>\n",
       "      <td>-0.202814</td>\n",
       "      <td>55.532609</td>\n",
       "      <td>4.748492</td>\n",
       "    </tr>\n",
       "    <tr>\n",
       "      <th>8</th>\n",
       "      <td>-0.005982</td>\n",
       "      <td>28.583333</td>\n",
       "      <td>3.787280</td>\n",
       "    </tr>\n",
       "    <tr>\n",
       "      <th>9</th>\n",
       "      <td>-0.091160</td>\n",
       "      <td>50.230769</td>\n",
       "      <td>4.737879</td>\n",
       "    </tr>\n",
       "    <tr>\n",
       "      <th>10</th>\n",
       "      <td>0.077677</td>\n",
       "      <td>18.957143</td>\n",
       "      <td>3.205506</td>\n",
       "    </tr>\n",
       "  </tbody>\n",
       "</table>\n",
       "</div>"
      ],
      "text/plain": [
       "     Inertia  Instability  Variability\n",
       "0  -0.058245    47.391667     4.755631\n",
       "1  -0.037667    43.098837     4.512609\n",
       "2   0.240929    29.709677     4.354612\n",
       "3   0.079935    23.877778     3.637669\n",
       "4  -0.079603    29.575000     3.760806\n",
       "5   0.009257    32.682432     4.020916\n",
       "6  -0.032880    31.568750     3.862833\n",
       "7  -0.202814    55.532609     4.748492\n",
       "8  -0.005982    28.583333     3.787280\n",
       "9  -0.091160    50.230769     4.737879\n",
       "10  0.077677    18.957143     3.205506"
      ]
     },
     "execution_count": 36,
     "metadata": {},
     "output_type": "execute_result"
    }
   ],
   "source": [
    "X_train = pd.DataFrame(training_data)\n",
    "X_test = pd.DataFrame(test_data)\n",
    "X_train"
   ]
  },
  {
   "cell_type": "code",
   "execution_count": 37,
   "id": "8bda7a5f-722a-485b-b847-085d0b4994f1",
   "metadata": {},
   "outputs": [
    {
     "data": {
      "text/html": [
       "<div>\n",
       "<style scoped>\n",
       "    .dataframe tbody tr th:only-of-type {\n",
       "        vertical-align: middle;\n",
       "    }\n",
       "\n",
       "    .dataframe tbody tr th {\n",
       "        vertical-align: top;\n",
       "    }\n",
       "\n",
       "    .dataframe thead th {\n",
       "        text-align: right;\n",
       "    }\n",
       "</style>\n",
       "<table border=\"1\" class=\"dataframe\">\n",
       "  <thead>\n",
       "    <tr style=\"text-align: right;\">\n",
       "      <th></th>\n",
       "      <th>Inertia</th>\n",
       "      <th>Instability</th>\n",
       "      <th>Variability</th>\n",
       "    </tr>\n",
       "  </thead>\n",
       "  <tbody>\n",
       "    <tr>\n",
       "      <th>0</th>\n",
       "      <td>-0.058245</td>\n",
       "      <td>47.391667</td>\n",
       "      <td>4.755631</td>\n",
       "    </tr>\n",
       "    <tr>\n",
       "      <th>1</th>\n",
       "      <td>-0.037667</td>\n",
       "      <td>43.098837</td>\n",
       "      <td>4.512609</td>\n",
       "    </tr>\n",
       "    <tr>\n",
       "      <th>2</th>\n",
       "      <td>0.240929</td>\n",
       "      <td>29.709677</td>\n",
       "      <td>4.354612</td>\n",
       "    </tr>\n",
       "    <tr>\n",
       "      <th>3</th>\n",
       "      <td>0.079935</td>\n",
       "      <td>23.877778</td>\n",
       "      <td>3.637669</td>\n",
       "    </tr>\n",
       "    <tr>\n",
       "      <th>4</th>\n",
       "      <td>-0.079603</td>\n",
       "      <td>29.575000</td>\n",
       "      <td>3.760806</td>\n",
       "    </tr>\n",
       "  </tbody>\n",
       "</table>\n",
       "</div>"
      ],
      "text/plain": [
       "    Inertia  Instability  Variability\n",
       "0 -0.058245    47.391667     4.755631\n",
       "1 -0.037667    43.098837     4.512609\n",
       "2  0.240929    29.709677     4.354612\n",
       "3  0.079935    23.877778     3.637669\n",
       "4 -0.079603    29.575000     3.760806"
      ]
     },
     "execution_count": 37,
     "metadata": {},
     "output_type": "execute_result"
    }
   ],
   "source": [
    "X = X_train.append(X_test).reset_index(drop=True)\n",
    "X.head()"
   ]
  },
  {
   "cell_type": "markdown",
   "id": "79a0ede4-2ed1-451f-b5c7-702d7dd1b86c",
   "metadata": {},
   "source": [
    "#### Data preprocessing: scaling\n",
    "Standardize features by removing the mean and scaling to unit variance."
   ]
  },
  {
   "cell_type": "code",
   "execution_count": 38,
   "id": "0a2feeee-8952-4953-b13b-151f5037327c",
   "metadata": {},
   "outputs": [
    {
     "data": {
      "text/html": [
       "<div>\n",
       "<style scoped>\n",
       "    .dataframe tbody tr th:only-of-type {\n",
       "        vertical-align: middle;\n",
       "    }\n",
       "\n",
       "    .dataframe tbody tr th {\n",
       "        vertical-align: top;\n",
       "    }\n",
       "\n",
       "    .dataframe thead th {\n",
       "        text-align: right;\n",
       "    }\n",
       "</style>\n",
       "<table border=\"1\" class=\"dataframe\">\n",
       "  <thead>\n",
       "    <tr style=\"text-align: right;\">\n",
       "      <th></th>\n",
       "      <th>Variability</th>\n",
       "      <th>Instability</th>\n",
       "      <th>Inertia</th>\n",
       "    </tr>\n",
       "  </thead>\n",
       "  <tbody>\n",
       "    <tr>\n",
       "      <th>0</th>\n",
       "      <td>-0.768974</td>\n",
       "      <td>1.414996</td>\n",
       "      <td>1.538932</td>\n",
       "    </tr>\n",
       "    <tr>\n",
       "      <th>1</th>\n",
       "      <td>-0.561407</td>\n",
       "      <td>1.058040</td>\n",
       "      <td>1.131262</td>\n",
       "    </tr>\n",
       "    <tr>\n",
       "      <th>2</th>\n",
       "      <td>2.248768</td>\n",
       "      <td>-0.055290</td>\n",
       "      <td>0.866223</td>\n",
       "    </tr>\n",
       "    <tr>\n",
       "      <th>3</th>\n",
       "      <td>0.624836</td>\n",
       "      <td>-0.540222</td>\n",
       "      <td>-0.336451</td>\n",
       "    </tr>\n",
       "    <tr>\n",
       "      <th>4</th>\n",
       "      <td>-0.984411</td>\n",
       "      <td>-0.066489</td>\n",
       "      <td>-0.129887</td>\n",
       "    </tr>\n",
       "  </tbody>\n",
       "</table>\n",
       "</div>"
      ],
      "text/plain": [
       "   Variability  Instability   Inertia\n",
       "0    -0.768974     1.414996  1.538932\n",
       "1    -0.561407     1.058040  1.131262\n",
       "2     2.248768    -0.055290  0.866223\n",
       "3     0.624836    -0.540222 -0.336451\n",
       "4    -0.984411    -0.066489 -0.129887"
      ]
     },
     "execution_count": 38,
     "metadata": {},
     "output_type": "execute_result"
    }
   ],
   "source": [
    "from sklearn.preprocessing import StandardScaler\n",
    "scaler = StandardScaler()\n",
    "X_scaled = scaler.fit_transform(X)\n",
    "pd.DataFrame(X_scaled, columns={'Inertia', 'Instability', 'Variability'}).head()"
   ]
  },
  {
   "cell_type": "markdown",
   "id": "9f82ab49-66c7-4445-a9a2-2f40c923b662",
   "metadata": {},
   "source": [
    "#### Pairplot analysis"
   ]
  },
  {
   "cell_type": "code",
   "execution_count": 39,
   "id": "d6bd4fd5-5862-43a2-beab-10ef2492c5f3",
   "metadata": {},
   "outputs": [
    {
     "data": {
      "image/png": "[encoded data removed]",
      "text/plain": [
       "<Figure size 540x540 with 12 Axes>"
      ]
     },
     "metadata": {
      "needs_background": "light"
     },
     "output_type": "display_data"
    }
   ],
   "source": [
    "sns.pairplot(X);"
   ]
  },
  {
   "cell_type": "markdown",
   "id": "2cd2a10c-e759-49f9-829c-c5ba5a6909a1",
   "metadata": {},
   "source": [
    "### 3D scatterplot"
   ]
  },
  {
   "cell_type": "code",
   "execution_count": 40,
   "id": "f91d4d15-7396-4b5a-916f-6e525de868d6",
   "metadata": {},
   "outputs": [
    {
     "data": {
      "image/png": "[encoded data removed]",
      "text/plain": [
       "<Figure size 432x288 with 1 Axes>"
      ]
     },
     "metadata": {
      "needs_background": "light"
     },
     "output_type": "display_data"
    }
   ],
   "source": [
    "import numpy as np\n",
    "import matplotlib.pyplot as plt\n",
    "from mpl_toolkits.mplot3d import Axes3D\n",
    "\n",
    "fig = plt.figure()\n",
    "ax = Axes3D(fig, rect=[0, 0, 0.95, 1], elev=48, azim=130, auto_add_to_figure=False)\n",
    "fig.add_axes(ax)\n",
    "\n",
    "ax.scatter(X_scaled[:, 0], X_scaled[:, 1], X_scaled[:, 2], cmap=plt.cm.nipy_spectral, edgecolor=\"k\")\n",
    "\n",
    "ax.set_xlabel('Inertia')\n",
    "ax.set_ylabel('Instability')\n",
    "ax.set_zlabel('Variability')\n",
    "\n",
    "plt.show()"
   ]
  },
  {
   "cell_type": "markdown",
   "id": "0e810546-0955-44b0-b803-0ad12ce3d0bc",
   "metadata": {},
   "source": [
    "### Principal Component Analysis"
   ]
  },
  {
   "cell_type": "code",
   "execution_count": 41,
   "id": "a62d0dd0-7e35-4b18-ba79-ee2f099b9e8b",
   "metadata": {},
   "outputs": [
    {
     "data": {
      "image/png": "[encoded data removed]",
      "text/plain": [
       "<Figure size 432x288 with 1 Axes>"
      ]
     },
     "metadata": {
      "needs_background": "light"
     },
     "output_type": "display_data"
    }
   ],
   "source": [
    "import numpy as np\n",
    "import matplotlib.pyplot as plt\n",
    "\n",
    "from sklearn import decomposition\n",
    "\n",
    "pca = decomposition.PCA(n_components=2)\n",
    "pca.fit(X_scaled)\n",
    "X_PCA = pca.transform(X_scaled)\n",
    "\n",
    "sns.scatterplot(x=X_PCA[:, 0], y=X_PCA[:, 1]);"
   ]
  },
  {
   "cell_type": "markdown",
   "id": "468ebaa9-8b55-4c3e-b9d6-9a2ecc8a3275",
   "metadata": {},
   "source": [
    "### Gaussian Mixture Model"
   ]
  },
  {
   "cell_type": "code",
   "execution_count": 54,
   "id": "7cdd241f-3d78-4ced-a83c-d4bfaf06b5e0",
   "metadata": {},
   "outputs": [
    {
     "data": {
      "image/png": "[encoded data removed]",
      "text/plain": [
       "<Figure size 1080x1080 with 2 Axes>"
      ]
     },
     "metadata": {
      "needs_background": "light"
     },
     "output_type": "display_data"
    }
   ],
   "source": [
    "\"\"\"\n",
    "================================\n",
    "Gaussian Mixture Model Selection\n",
    "================================\n",
    "\n",
    "Gaussian Mixture Models using information-theoretic criteria (BIC).\n",
    "Model selection concerns both the covariance type and the number of components in the model.\n",
    "Unlike Bayesian procedures, such inferences are prior-free.\n",
    "\n",
    "\"\"\"\n",
    "\n",
    "import itertools\n",
    "\n",
    "from scipy import linalg\n",
    "import matplotlib.pyplot as plt\n",
    "import matplotlib as mpl\n",
    "\n",
    "from sklearn import mixture\n",
    "\n",
    "lowest_bic = np.infty\n",
    "bic = []\n",
    "n_components_range = range(1, 7)\n",
    "cv_types = [\"spherical\", \"tied\", \"diag\", \"full\"]\n",
    "for cv_type in cv_types:\n",
    "    for n_components in n_components_range:\n",
    "        # Fit a Gaussian mixture with EM\n",
    "        gmm = mixture.GaussianMixture(\n",
    "            n_components=n_components, covariance_type=cv_type\n",
    "        )\n",
    "        gmm.fit(X_scaled)\n",
    "        bic.append(gmm.bic(X_scaled))\n",
    "        if bic[-1] < lowest_bic:\n",
    "            lowest_bic = bic[-1]\n",
    "            best_gmm = gmm\n",
    "\n",
    "bic = np.array(bic)\n",
    "color_iter = itertools.cycle(['tab:blue', 'tab:orange', 'tab:green', 'tab:red', 'tab:purple', 'tab:brown', 'tab:pink', 'tab:gray', 'tab:olive', 'tab:cyan'])\n",
    "clf = best_gmm\n",
    "bars = []\n",
    "\n",
    "# Plot the BIC scores\n",
    "plt.figure(figsize=(15, 15))\n",
    "spl = plt.subplot(2, 1, 1)\n",
    "for i, (cv_type, color) in enumerate(zip(cv_types, color_iter)):\n",
    "    xpos = np.array(n_components_range) + 0.2 * (i - 2)\n",
    "    bars.append(\n",
    "        plt.bar(\n",
    "            xpos,\n",
    "            bic[i * len(n_components_range) : (i + 1) * len(n_components_range)],\n",
    "            width=0.2,\n",
    "            color=color,\n",
    "        )\n",
    "    )\n",
    "plt.xticks(n_components_range)\n",
    "plt.ylim([bic.min() * 1.01 - 0.01 * bic.max(), bic.max()])\n",
    "plt.title(\"BIC score per model\")\n",
    "xpos = (\n",
    "    np.mod(bic.argmin(), len(n_components_range))\n",
    "    + 0.65\n",
    "    + 0.2 * np.floor(bic.argmin() / len(n_components_range))\n",
    ")\n",
    "plt.text(xpos, bic.min() * 0.97 + 0.03 * bic.max(), \"*\", fontsize=14)\n",
    "spl.set_xlabel(\"Number of components\")\n",
    "spl.legend([b[0] for b in bars], cv_types)\n",
    "\n",
    "# Plot the winner\n",
    "splot = plt.subplot(2, 1, 2)\n",
    "Y_ = clf.predict(X_scaled)\n",
    "for i, (mean, cov, color) in enumerate(zip(clf.means_, clf.covariances_, color_iter)):\n",
    "    v, w = linalg.eigh(cov)\n",
    "    if not np.any(Y_ == i):\n",
    "        continue\n",
    "    plt.scatter(X_scaled[Y_ == i, 0], X_scaled[Y_ == i, 1], 50, color=color)\n",
    "\n",
    "plt.legend(range(len(clf.means_)))\n",
    "plt.xlabel('Inertia')\n",
    "plt.ylabel('Instability')\n",
    "plt.title(\n",
    "    f\"Selected GMM: {best_gmm.covariance_type} model, \"\n",
    "    f\"{best_gmm.n_components} components\"\n",
    ")\n",
    "plt.show()\n"
   ]
  },
  {
   "cell_type": "code",
   "execution_count": null,
   "id": "d11aaa91-3b19-4a44-928d-98d0f472700b",
   "metadata": {},
   "outputs": [],
   "source": []
  }
 ],
 "metadata": {
  "kernelspec": {
   "display_name": "Python 3 (ipykernel)",
   "language": "python",
   "name": "python3"
  },
  "language_info": {
   "codemirror_mode": {
    "name": "ipython",
    "version": 3
   },
   "file_extension": ".py",
   "mimetype": "text/x-python",
   "name": "python",
   "nbconvert_exporter": "python",
   "pygments_lexer": "ipython3",
   "version": "3.9.5"
  }
 },
 "nbformat": 4,
 "nbformat_minor": 5
}
